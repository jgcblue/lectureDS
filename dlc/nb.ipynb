
  {
   "cell_type": "markdown",
   "id": "edeb1f34-48e5-4a86-aea4-5008a2fb2921",
   "metadata": {},
   "source": [
    "# start extract\n"
   ]
  },
  {
   "cell_type": "code",
   "execution_count": null,
   "id": "140c7da0-b96e-4fd4-8587-c0e71d78a77d",
   "metadata": {
    "ExecuteTime": {
     "end_time": "2023-07-25T05:08:57.304984+00:00",
     "start_time": "2023-07-25T05:08:55.330725+00:00"
    },
    "noteable": {
     "cell_type": "code"
    }
   },
   "outputs": [],
   "source": [
    "# Import necessary libraries for polynomial regression\n",
    "from sklearn.preprocessing import PolynomialFeatures\n",
    "\n",
    "# Define the degree of the polynomial features\n",
    "degree = 2\n",
    "\n",
    "# Create a PolynomialFeatures object\n",
    "poly_features = PolynomialFeatures(degree=degree)\n",
    "\n",
    "# Transform the predictor variable\n",
    "X_poly = poly_features.fit_transform(X)\n",
    "\n",
    "# Split the data into training set and test set\n",
    "X_train_poly, X_test_poly, y_train, y_test = train_test_split(X_poly, y, test_size=0.2, random_state=42)\n",
    "\n",
    "# Create a linear regression model and fit it to the polynomial features training data\n",
    "model_poly = LinearRegression()\n",
    "model_poly.fit(X_train_poly, y_train)\n",
    "\n",
    "# Make predictions using the test set\n",
    "y_pred_poly = model_poly.predict(X_test_poly)\n",
    "\n",
    "# The coefficients\n",
    "print('Coefficients: \\n', model_poly.coef_)\n",
    "# The mean squared error\n",
    "print('Mean squared error: %.2f' % mean_squared_error(y_test, y_pred_poly))\n",
    "# The coefficient of determination: 1 is perfect prediction\n",
    "print('Coefficient of determination: %.2f' % r2_score(y_test, y_pred_poly))\n",
    "\n",
    "# Plot outputs\n",
    "plt.scatter(X_test[:, 0], y_test,  color='black')\n",
    "plt.scatter(X_test[:, 0], y_pred_poly, color='blue')\n",
    "plt.title('Polynomial Regression')\n",
    "plt.xlabel('Ages')\n",
    "plt.ylabel('Rates')\n",
    "plt.show()"
   ]
  },
  {
   "cell_type": "code",
   "execution_count": null,
   "id": "bc84931f-3f11-44b7-9b5f-94c7f6d38970",
   "metadata": {
    "ExecuteTime": {
     "end_time": "2023-07-25T05:09:10.529863+00:00",
     "start_time": "2023-07-25T05:09:10.041904+00:00"
    },
    "noteable": {
     "cell_type": "code"
    }
   },
   "outputs": [],
   "source": [
    "# Plot outputs\n",
    "plt.scatter(X_test_poly[:, 1], y_test,  color='black')\n",
    "plt.scatter(X_test_poly[:, 1], y_pred_poly, color='blue')\n",
    "plt.title('Polynomial Regression')\n",
    "plt.xlabel('Ages')\n",
    "plt.ylabel('Rates')\n",
    "plt.show()"
   ]
  },
  {
   "cell_type": "code",
   "execution_count": null,
   "id": "17eb54b2-f232-48d2-a8d8-667c63e79d41",
   "metadata": {
    "ExecuteTime": {
     "end_time": "2023-07-25T05:14:19.434883+00:00",
     "start_time": "2023-07-25T05:14:19.230460+00:00"
    },
    "datalink": {
     "c3039d09-3360-48be-a89e-bb9f9b645729": {
      "applied_filters": [],
      "dataframe_info": {
       "default_index_used": true,
       "orig_num_cols": 2,
       "orig_num_rows": 5,
       "orig_size_bytes": 120,
       "truncated_num_cols": 2,
       "truncated_num_rows": 5,
       "truncated_size_bytes": 120,
       "truncated_string_columns": []
      },
      "display_id": "c3039d09-3360-48be-a89e-bb9f9b645729",
      "dx_settings": {
       "ALLOW_NOTEABLE_ATTRS": true,
       "COLUMN_SAMPLING_METHOD": "outer",
       "DB_LOCATION": ":memory:",
       "DEV_MODE": false,
       "DISPLAY_MAX_COLUMNS": 100,
       "DISPLAY_MAX_ROWS": 50000,
       "DISPLAY_MODE": "simple",
       "ENABLE_ASSIGNMENT": true,
       "ENABLE_DATALINK": true,
       "FLATTEN_COLUMN_VALUES": true,
       "FLATTEN_INDEX_VALUES": false,
       "GENERATE_DEX_METADATA": false,
       "HTML_TABLE_SCHEMA": false,
       "LOG_LEVEL": 30,
       "MAX_RENDER_SIZE_BYTES": 104857600,
       "MAX_STRING_LENGTH": 250,
       "NUM_PAST_SAMPLES_TRACKED": 3,
       "RANDOM_STATE": 12648430,
       "RESET_INDEX_VALUES": false,
       "ROW_SAMPLING_METHOD": "random",
       "SAMPLING_FACTOR": 0.1,
       "SAMPLING_METHOD": "random",
       "STRINGIFY_COLUMN_VALUES": true,
       "STRINGIFY_INDEX_VALUES": false
      },
      "sample_history": [],
      "sampling_time": "2023-07-25T05:14:19.278116",
      "user_variable_name": null,
      "variable_name": "unk_dataframe_7bca6e82403d47d28b0789e29753af11"
     }
    },
    "noteable": {
     "cell_type": "code"
    }
   },
   "outputs": [],
   "source": [
    "# Import necessary libraries\n",
    "import numpy as np\n",
    "import pandas as pd\n",
    "\n",
    "# Set a random seed for reproducibility\n",
    "np.random.seed(42)\n",
    "\n",
    "# Generate ages from 16 to 75\n",
    "ages = np.random.randint(16, 76, size=100)\n",
    "\n",
    "# Generate rates that linearly decrease with age with some random noise\n",
    "rates = 100 - ages + np.random.normal(0, 10, size=100)\n",
    "\n",
    "# Create a dataframe\n",
    "df_linear = pd.DataFrame({'ages': ages, 'rates': rates})\n",
    "\n",
    "# Write the dataframe to a csv file\n",
    "df_linear.to_csv('linear_data.csv', index=False)\n",
    "\n",
    "df_linear.head()"
   ]
  },
  {
   "cell_type": "code",
   "execution_count": null,
   "id": "7ee916fd-5ce9-4108-bf47-7eae0cf7f575",
   "metadata": {
    "ExecuteTime": {
     "end_time": "2023-07-25T05:16:09.188428+00:00",
     "start_time": "2023-07-25T05:16:08.983164+00:00"
    },
    "datalink": {
     "3d96e324-2e72-487c-94a7-90106d9b76ad": {
      "applied_filters": [],
      "dataframe_info": {
       "default_index_used": true,
       "orig_num_cols": 2,
       "orig_num_rows": 5,
       "orig_size_bytes": 120,
       "truncated_num_cols": 2,
       "truncated_num_rows": 5,
       "truncated_size_bytes": 120,
       "truncated_string_columns": []
      },
      "display_id": "3d96e324-2e72-487c-94a7-90106d9b76ad",
      "dx_settings": {
       "ALLOW_NOTEABLE_ATTRS": true,
       "COLUMN_SAMPLING_METHOD": "outer",
       "DB_LOCATION": ":memory:",
       "DEV_MODE": false,
       "DISPLAY_MAX_COLUMNS": 100,
       "DISPLAY_MAX_ROWS": 50000,
       "DISPLAY_MODE": "simple",
       "ENABLE_ASSIGNMENT": true,
       "ENABLE_DATALINK": true,
       "FLATTEN_COLUMN_VALUES": true,
       "FLATTEN_INDEX_VALUES": false,
       "GENERATE_DEX_METADATA": false,
       "HTML_TABLE_SCHEMA": false,
       "LOG_LEVEL": 30,
       "MAX_RENDER_SIZE_BYTES": 104857600,
       "MAX_STRING_LENGTH": 250,
       "NUM_PAST_SAMPLES_TRACKED": 3,
       "RANDOM_STATE": 12648430,
       "RESET_INDEX_VALUES": false,
       "ROW_SAMPLING_METHOD": "random",
       "SAMPLING_FACTOR": 0.1,
       "SAMPLING_METHOD": "random",
       "STRINGIFY_COLUMN_VALUES": true,
       "STRINGIFY_INDEX_VALUES": false
      },
      "sample_history": [],
      "sampling_time": "2023-07-25T05:16:09.031299",
      "user_variable_name": null,
      "variable_name": "unk_dataframe_425238a006224bf09cc3591767ff43ae"
     }
    },
    "noteable": {
     "cell_type": "code"
    }
   },
   "outputs": [],
   "source": [
    "# Load the new data\n",
    "df_linear = pd.read_csv('linear_data.csv')\n",
    "\n",
    "# Display the first few rows of the dataframe\n",
    "df_linear.head()"
   ]
  },
  {
   "cell_type": "code",
   "execution_count": null,
   "id": "fcb05542-e402-47b0-8816-89dae58d914e",
   "metadata": {
    "ExecuteTime": {
     "end_time": "2023-07-25T05:16:23.134114+00:00",
     "start_time": "2023-07-25T05:16:22.930703+00:00"
    },
    "datalink": {
     "c1817602-a363-4f1b-ba84-3f75435732c0": {
      "applied_filters": [],
      "dataframe_info": {
       "default_index_used": true,
       "orig_num_cols": 2,
       "orig_num_rows": 5,
       "orig_size_bytes": 120,
       "truncated_num_cols": 2,
       "truncated_num_rows": 5,
       "truncated_size_bytes": 120,
       "truncated_string_columns": []
      },
      "display_id": "c1817602-a363-4f1b-ba84-3f75435732c0",
      "dx_settings": {
       "ALLOW_NOTEABLE_ATTRS": true,
       "COLUMN_SAMPLING_METHOD": "outer",
       "DB_LOCATION": ":memory:",
       "DEV_MODE": false,
       "DISPLAY_MAX_COLUMNS": 100,
       "DISPLAY_MAX_ROWS": 50000,
       "DISPLAY_MODE": "simple",
       "ENABLE_ASSIGNMENT": true,
       "ENABLE_DATALINK": true,
       "FLATTEN_COLUMN_VALUES": true,
       "FLATTEN_INDEX_VALUES": false,
       "GENERATE_DEX_METADATA": false,
       "HTML_TABLE_SCHEMA": false,
       "LOG_LEVEL": 30,
       "MAX_RENDER_SIZE_BYTES": 104857600,
       "MAX_STRING_LENGTH": 250,
       "NUM_PAST_SAMPLES_TRACKED": 3,
       "RANDOM_STATE": 12648430,
       "RESET_INDEX_VALUES": false,
       "ROW_SAMPLING_METHOD": "random",
       "SAMPLING_FACTOR": 0.1,
       "SAMPLING_METHOD": "random",
       "STRINGIFY_COLUMN_VALUES": true,
       "STRINGIFY_INDEX_VALUES": false
      },
      "sample_history": [],
      "sampling_time": "2023-07-25T05:16:22.977897",
      "user_variable_name": null,
      "variable_name": "unk_dataframe_1333f82fec3b4c5fab8114da1f95395f"
     }
    },
    "noteable": {
     "cell_type": "code"
    }
   },
   "outputs": [],
   "source": [
    "# Drop negative values\n",
    "df_linear = df_linear[df_linear['rates'] >= 0]\n",
    "\n",
    "# Drop null values\n",
    "df_linear = df_linear.dropna()\n",
    "\n",
    "# Display the first few rows of the dataframe\n",
    "df_linear.head()"
   ]
  },
  {
   "cell_type": "code",
   "execution_count": null,
   "id": "11f5b09d-dfb0-4a23-b440-4a165db01222",
   "metadata": {
    "ExecuteTime": {
     "end_time": "2023-07-25T05:16:38.017718+00:00",
     "start_time": "2023-07-25T05:16:37.804477+00:00"
    },
    "datalink": {
     "0337c726-2943-4c14-b063-872186f718a5": {
      "applied_filters": [],
      "dataframe_info": {
       "default_index_used": true,
       "orig_num_cols": 2,
       "orig_num_rows": 5,
       "orig_size_bytes": 120,
       "truncated_num_cols": 2,
       "truncated_num_rows": 5,
       "truncated_size_bytes": 120,
       "truncated_string_columns": []
      },
      "display_id": "0337c726-2943-4c14-b063-872186f718a5",
      "dx_settings": {
       "ALLOW_NOTEABLE_ATTRS": true,
       "COLUMN_SAMPLING_METHOD": "outer",
       "DB_LOCATION": ":memory:",
       "DEV_MODE": false,
       "DISPLAY_MAX_COLUMNS": 100,
       "DISPLAY_MAX_ROWS": 50000,
       "DISPLAY_MODE": "simple",
       "ENABLE_ASSIGNMENT": true,
       "ENABLE_DATALINK": true,
       "FLATTEN_COLUMN_VALUES": true,
       "FLATTEN_INDEX_VALUES": false,
       "GENERATE_DEX_METADATA": false,
       "HTML_TABLE_SCHEMA": false,
       "LOG_LEVEL": 30,
       "MAX_RENDER_SIZE_BYTES": 104857600,
       "MAX_STRING_LENGTH": 250,
       "NUM_PAST_SAMPLES_TRACKED": 3,
       "RANDOM_STATE": 12648430,
       "RESET_INDEX_VALUES": false,
       "ROW_SAMPLING_METHOD": "random",
       "SAMPLING_FACTOR": 0.1,
       "SAMPLING_METHOD": "random",
       "STRINGIFY_COLUMN_VALUES": true,
       "STRINGIFY_INDEX_VALUES": false
      },
      "sample_history": [],
      "sampling_time": "2023-07-25T05:16:37.861519",
      "user_variable_name": null,
      "variable_name": "unk_dataframe_e50e3a9ac51a4a5ba7b9a1ba253d35d4"
     }
    },
    "noteable": {
     "cell_type": "code"
    }
   },
   "outputs": [],
   "source": [
    "# Identify outliers\n",
    "Q1 = df_linear.quantile(0.25)\n",
    "Q3 = df_linear.quantile(0.75)\n",
    "IQR = Q3 - Q1\n",
    "\n",
    "# Remove outliers\n",
    "df_linear_no_outliers = df_linear[~((df_linear < (Q1 - 1.5 * IQR)) | (df_linear > (Q3 + 1.5 * IQR))).any(axis=1)]\n",
    "\n",
    "# Display the first few rows of the dataframe without outliers\n",
    "df_linear_no_outliers.head()"
   ]
  },
  {
   "cell_type": "code",
   "execution_count": null,
   "id": "13455723-86b3-42ea-a741-75d5db5c56cc",
   "metadata": {
    "ExecuteTime": {
     "end_time": "2023-07-25T05:17:06.265698+00:00",
     "start_time": "2023-07-25T05:17:05.147813+00:00"
    },
    "noteable": {
     "cell_type": "code"
    }
   },
   "outputs": [],
   "source": [
    "# Plot ages versus rates for the original dataframe\n",
    "plt.figure(figsize=(10, 5))\n",
    "plt.subplot(1, 2, 1)\n",
    "plt.scatter(df_linear['ages'], df_linear['rates'])\n",
    "plt.title('Original Data')\n",
    "plt.xlabel('Ages')\n",
    "plt.ylabel('Rates')\n",
    "\n",
    "# Plot ages versus rates for the dataframe without outliers\n",
    "plt.subplot(1, 2, 2)\n",
    "plt.scatter(df_linear_no_outliers['ages'], df_linear_no_outliers['rates'])\n",
    "plt.title('Data Without Outliers')\n",
    "plt.xlabel('Ages')\n",
    "plt.ylabel('Rates')\n",
    "\n",
    "plt.tight_layout()\n",
    "plt.show()\n",
    "\n",
    "# Box and whisker plots\n",
    "plt.figure(figsize=(10, 5))\n",
    "plt.subplot(1, 2, 1)\n",
    "df_linear.boxplot(column=['rates'])\n",
    "plt.title('Original Data')\n",
    "\n",
    "plt.subplot(1, 2, 2)\n",
    "df_linear_no_outliers.boxplot(column=['rates'])\n",
    "plt.title('Data Without Outliers')\n",
    "\n",
    "plt.tight_layout()\n",
    "plt.show()"
   ]
  },
  {
   "cell_type": "code",
   "execution_count": null,
   "id": "e7beb7d9-3c43-4710-b7f6-7f2c7fe8fec7",
   "metadata": {
    "ExecuteTime": {
     "end_time": "2023-07-25T05:17:31.100080+00:00",
     "start_time": "2023-07-25T05:17:30.930644+00:00"
    },
    "noteable": {
     "cell_type": "code"
    }
   },
   "outputs": [],
   "source": [
    "# Import necessary libraries\n",
    "from sklearn.model_selection import train_test_split\n",
    "from sklearn.linear_model import LinearRegression\n",
    "from sklearn.metrics import mean_squared_error, r2_score\n",
    "\n",
    "# Define predictor and target variables\n",
    "X = df_linear_no_outliers[['ages']]\n",
    "y = df_linear_no_outliers['rates']\n",
    "\n",
    "# Split the data into training and test sets\n",
    "X_train, X_test, y_train, y_test = train_test_split(X, y, test_size=0.2, random_state=42)\n",
    "\n",
    "# Create a linear regression object\n",
    "regr = LinearRegression()\n",
    "\n",
    "# Train the model using the training sets\n",
    "regr.fit(X_train, y_train)\n",
    "\n",
    "# Make predictions using the testing set\n",
    "y_pred = regr.predict(X_test)\n",
    "\n",
    "# Print the coefficients\n",
    "print('Coefficients:', regr.coef_)\n",
    "\n",
    "# Print the mean squared error\n",
    "print('Mean squared error:', mean_squared_error(y_test, y_pred))\n",
    "\n",
    "# Print the coefficient of determination (R^2 score)\n",
    "print('Coefficient of determination (R^2 score):', r2_score(y_test, y_pred))"
   ]
  },
  {
   "cell_type": "code",
   "execution_count": null,
   "id": "4dd277d4-43c5-4d81-8465-4da28cb970d3",
   "metadata": {
    "ExecuteTime": {
     "end_time": "2023-07-25T05:17:51.987450+00:00",
     "start_time": "2023-07-25T05:17:51.260650+00:00"
    },
    "noteable": {
     "cell_type": "code"
    }
   },
   "outputs": [],
   "source": [
    "# Plot scatter plot of the test data and the predicted regression line\n",
    "plt.scatter(X_test, y_test, color='black')\n",
    "plt.plot(X_test, y_pred, color='blue', linewidth=3)\n",
    "plt.title('Linear Regression Model')\n",
    "plt.xlabel('Ages')\n",
    "plt.ylabel('Rates')\n",
    "plt.show()\n",
    "\n",
    "# Plot residuals\n",
    "plt.scatter(y_pred, y_test - y_pred, color='black')\n",
    "plt.hlines(y=0, xmin=y_test.min(), xmax=y_test.max(), color='blue')\n",
    "plt.title('Residuals')\n",
    "plt.xlabel('Predicted')\n",
    "plt.ylabel('Residuals')\n",
    "plt.show()"
   ]
  },
  {
   "cell_type": "markdown",
   "id": "a211008b-1c07-47de-a8cb-7dbfe0c4ecbf",
   "metadata": {
    "noteable": {
     "cell_type": "markdown"
    }
   },
   "source": [
    "## Model Evaluation\n",
    "\n",
    "The linear regression model has a coefficient of -0.9446, which indicates that as age increases, the rate decreases, which aligns with our expectations from the data.\n",
    "\n",
    "The mean squared error of the model is 75.25. This is a measure of the average squared difference between the actual and predicted values, with lower values indicating a better fit of the model to the data.\n",
    "\n",
    "The coefficient of determination (R^2 score) is 0.793. This score ranges from 0 to 1 and represents the proportion of the variance in the dependent variable that is predictable from the independent variable(s). A score of 0.793 indicates that approximately 79.3% of the variability in rates can be explained by age, which suggests a strong relationship.\n",
    "\n",
    "The scatter plot of the test data and the predicted regression line shows a clear negative linear relationship, which is what we would expect given the negative coefficient of the model.\n",
    "\n",
    "The residuals plot shows how the prediction errors (residuals) are distributed. Ideally, we would like to see a random distribution of residuals around the horizontal axis. In this case, the residuals appear to be randomly distributed around zero, suggesting that a linear model is appropriate for this data."
   ]
  },
  {
   "cell_type": "markdown",
   "id": "1cfcdfc1-43f4-45f4-a71e-7758b010cbb0",
   "metadata": {},
   "source": [
    "# end extract"
   ]
  },
