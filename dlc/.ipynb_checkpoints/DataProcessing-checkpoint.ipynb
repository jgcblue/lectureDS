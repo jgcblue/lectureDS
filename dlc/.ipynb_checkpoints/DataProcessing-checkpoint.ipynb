{
 "cells": [
  {
   "cell_type": "code",
   "execution_count": null,
   "id": "3660cca8-a759-440a-a2b7-7c713c56b4ea",
   "metadata": {
    "ExecuteTime": {
     "end_time": "2023-07-25T05:04:03.610211+00:00",
     "start_time": "2023-07-25T05:04:03.432252+00:00"
    },
    "datalink": {
     "53303550-21d6-4e53-8a88-2216b10460e5": {
      "applied_filters": [],
      "dataframe_info": {
       "default_index_used": true,
       "orig_num_cols": 2,
       "orig_num_rows": 5,
       "orig_size_bytes": 120,
       "truncated_num_cols": 2,
       "truncated_num_rows": 5,
       "truncated_size_bytes": 120,
       "truncated_string_columns": []
      },
      "display_id": "53303550-21d6-4e53-8a88-2216b10460e5",
      "dx_settings": {
       "ALLOW_NOTEABLE_ATTRS": true,
       "COLUMN_SAMPLING_METHOD": "outer",
       "DB_LOCATION": ":memory:",
       "DEV_MODE": false,
       "DISPLAY_MAX_COLUMNS": 100,
       "DISPLAY_MAX_ROWS": 50000,
       "DISPLAY_MODE": "simple",
       "ENABLE_ASSIGNMENT": true,
       "ENABLE_DATALINK": true,
       "FLATTEN_COLUMN_VALUES": true,
       "FLATTEN_INDEX_VALUES": false,
       "GENERATE_DEX_METADATA": false,
       "HTML_TABLE_SCHEMA": false,
       "LOG_LEVEL": 30,
       "MAX_RENDER_SIZE_BYTES": 104857600,
       "MAX_STRING_LENGTH": 250,
       "NUM_PAST_SAMPLES_TRACKED": 3,
       "RANDOM_STATE": 12648430,
       "RESET_INDEX_VALUES": false,
       "ROW_SAMPLING_METHOD": "random",
       "SAMPLING_FACTOR": 0.1,
       "SAMPLING_METHOD": "random",
       "STRINGIFY_COLUMN_VALUES": true,
       "STRINGIFY_INDEX_VALUES": false
      },
      "sample_history": [],
      "sampling_time": "2023-07-25T04:56:00.085767",
      "user_variable_name": null,
      "variable_name": "unk_dataframe_bb671ac94dab44aa884355b00aa1395f"
     }
    },
    "noteable": {
     "cell_type": "code"
    }
   },
   "outputs": [],
   "source": [
    "# Import necessary libraries\n",
    "import pandas as pd\n",
    "from scipy import stats\n",
    "\n",
    "# Load the new dataset\n",
    "df = pd.read_csv('keepdata.csv')\n",
    "\n",
    "# Display the first few rows of the dataframe\n",
    "df.head()\n",
    "\n",
    "print(df.head())\n",
    "\n",
    "print(df)"
   ]
  },
  {
   "cell_type": "code",
   "execution_count": null,
   "id": "99b9db0a-b8d4-48ab-a30a-4aad390b5a6f",
   "metadata": {
    "ExecuteTime": {
     "end_time": "2023-07-25T04:56:17.868187+00:00",
     "start_time": "2023-07-25T04:56:17.673818+00:00"
    },
    "datalink": {
     "5f17055d-cd85-4d3d-8ed0-9353dc949ac1": {
      "applied_filters": [],
      "dataframe_info": {
       "default_index_used": true,
       "orig_num_cols": 2,
       "orig_num_rows": 5,
       "orig_size_bytes": 120,
       "truncated_num_cols": 2,
       "truncated_num_rows": 5,
       "truncated_size_bytes": 120,
       "truncated_string_columns": []
      },
      "display_id": "5f17055d-cd85-4d3d-8ed0-9353dc949ac1",
      "dx_settings": {
       "ALLOW_NOTEABLE_ATTRS": true,
       "COLUMN_SAMPLING_METHOD": "outer",
       "DB_LOCATION": ":memory:",
       "DEV_MODE": false,
       "DISPLAY_MAX_COLUMNS": 100,
       "DISPLAY_MAX_ROWS": 50000,
       "DISPLAY_MODE": "simple",
       "ENABLE_ASSIGNMENT": true,
       "ENABLE_DATALINK": true,
       "FLATTEN_COLUMN_VALUES": true,
       "FLATTEN_INDEX_VALUES": false,
       "GENERATE_DEX_METADATA": false,
       "HTML_TABLE_SCHEMA": false,
       "LOG_LEVEL": 30,
       "MAX_RENDER_SIZE_BYTES": 104857600,
       "MAX_STRING_LENGTH": 250,
       "NUM_PAST_SAMPLES_TRACKED": 3,
       "RANDOM_STATE": 12648430,
       "RESET_INDEX_VALUES": false,
       "ROW_SAMPLING_METHOD": "random",
       "SAMPLING_FACTOR": 0.1,
       "SAMPLING_METHOD": "random",
       "STRINGIFY_COLUMN_VALUES": true,
       "STRINGIFY_INDEX_VALUES": false
      },
      "sample_history": [],
      "sampling_time": "2023-07-25T04:56:17.711790",
      "user_variable_name": null,
      "variable_name": "unk_dataframe_ddf523ca42544fae8d79e011246fd2f5"
     }
    },
    "noteable": {
     "cell_type": "code"
    }
   },
   "outputs": [],
   "source": [
    "# Remove rows with negative rates\n",
    "df = df[df['rates'] >= 0]\n",
    "\n",
    "# Display the first few rows of the dataframe after removing negative rates\n",
    "df.head()"
   ]
  },
  {
   "cell_type": "code",
   "execution_count": null,
   "id": "da2708c0-ee16-4d15-a8a9-40226b4379b2",
   "metadata": {
    "ExecuteTime": {
     "end_time": "2023-07-25T04:56:31.639699+00:00",
     "start_time": "2023-07-25T04:56:31.438189+00:00"
    },
    "datalink": {
     "198b056e-9b59-40b8-b5db-65f755bebb24": {
      "applied_filters": [],
      "dataframe_info": {
       "default_index_used": true,
       "orig_num_cols": 3,
       "orig_num_rows": 5,
       "orig_size_bytes": 160,
       "truncated_num_cols": 3,
       "truncated_num_rows": 5,
       "truncated_size_bytes": 160,
       "truncated_string_columns": []
      },
      "display_id": "198b056e-9b59-40b8-b5db-65f755bebb24",
      "dx_settings": {
       "ALLOW_NOTEABLE_ATTRS": true,
       "COLUMN_SAMPLING_METHOD": "outer",
       "DB_LOCATION": ":memory:",
       "DEV_MODE": false,
       "DISPLAY_MAX_COLUMNS": 100,
       "DISPLAY_MAX_ROWS": 50000,
       "DISPLAY_MODE": "simple",
       "ENABLE_ASSIGNMENT": true,
       "ENABLE_DATALINK": true,
       "FLATTEN_COLUMN_VALUES": true,
       "FLATTEN_INDEX_VALUES": false,
       "GENERATE_DEX_METADATA": false,
       "HTML_TABLE_SCHEMA": false,
       "LOG_LEVEL": 30,
       "MAX_RENDER_SIZE_BYTES": 104857600,
       "MAX_STRING_LENGTH": 250,
       "NUM_PAST_SAMPLES_TRACKED": 3,
       "RANDOM_STATE": 12648430,
       "RESET_INDEX_VALUES": false,
       "ROW_SAMPLING_METHOD": "random",
       "SAMPLING_FACTOR": 0.1,
       "SAMPLING_METHOD": "random",
       "STRINGIFY_COLUMN_VALUES": true,
       "STRINGIFY_INDEX_VALUES": false
      },
      "sample_history": [],
      "sampling_time": "2023-07-25T04:56:31.482517",
      "user_variable_name": null,
      "variable_name": "unk_dataframe_67995ec31a1841739f2a0fa32f557d82"
     }
    },
    "noteable": {
     "cell_type": "code"
    }
   },
   "outputs": [],
   "source": [
    "# Calculate z-scores\n",
    "df['z_score']=stats.zscore(df['rates'])\n",
    "\n",
    "# Remove outliers: keep only the ones that are within +3 to -3 standard deviations in the column 'rates'.\n",
    "df_no_outliers = df[(df['z_score'] > -3) & (df['z_score'] < 3)]\n",
    "\n",
    "# Display the first few rows of the dataframe after removing outliers\n",
    "df_no_outliers.head()"
   ]
  },
  {
   "cell_type": "code",
   "execution_count": null,
   "id": "b2314851-fa9f-42df-b058-caa29baf7ea5",
   "metadata": {
    "ExecuteTime": {
     "end_time": "2023-07-25T04:59:20.748458+00:00",
     "start_time": "2023-07-25T04:59:18.456822+00:00"
    },
    "noteable": {
     "cell_type": "code"
    }
   },
   "outputs": [],
   "source": [
    "# Import necessary libraries for plotting\n",
    "import matplotlib.pyplot as plt\n",
    "import seaborn as sns\n",
    "\n",
    "# Plot ages versus rates for the original dataframe\n",
    "plt.figure(figsize=(10, 6))\n",
    "sns.scatterplot(x='ages', y='rates', data=df)\n",
    "plt.title('Ages vs Rates (with outliers)')\n",
    "plt.show()\n",
    "\n",
    "# Box and whisker plot for the original dataframe\n",
    "plt.figure(figsize=(10, 6))\n",
    "sns.boxplot(x='ages', y='rates', data=df)\n",
    "plt.title('Box plot of Ages vs Rates (with outliers)')\n",
    "plt.show()"
   ]
  },
  {
   "cell_type": "code",
   "execution_count": null,
   "id": "ac71ebc1-dce7-4a38-abcf-3893fb9c4124",
   "metadata": {
    "ExecuteTime": {
     "end_time": "2023-07-25T04:59:37.223099+00:00",
     "start_time": "2023-07-25T04:59:35.541858+00:00"
    },
    "noteable": {
     "cell_type": "code"
    }
   },
   "outputs": [],
   "source": [
    "# Plot ages versus rates for the dataframe without outliers\n",
    "plt.figure(figsize=(10, 6))\n",
    "sns.scatterplot(x='ages', y='rates', data=df_no_outliers)\n",
    "plt.title('Ages vs Rates (without outliers)')\n",
    "plt.show()\n",
    "\n",
    "# Box and whisker plot for the dataframe without outliers\n",
    "plt.figure(figsize=(10, 6))\n",
    "sns.boxplot(x='ages', y='rates', data=df_no_outliers)\n",
    "plt.title('Box plot of Ages vs Rates (without outliers)')\n",
    "plt.show()"
   ]
  },
  {
   "cell_type": "code",
   "execution_count": null,
   "id": "da34ed52-546e-4c8f-9d69-51cff7d4488d",
   "metadata": {
    "ExecuteTime": {
     "end_time": "2023-07-25T05:00:04.653094+00:00",
     "start_time": "2023-07-25T05:00:04.099719+00:00"
    },
    "noteable": {
     "cell_type": "code"
    }
   },
   "outputs": [],
   "source": [
    "# Import necessary libraries for linear regression\n",
    "from sklearn.model_selection import train_test_split\n",
    "from sklearn.linear_model import LinearRegression\n",
    "from sklearn.metrics import mean_squared_error, r2_score\n",
    "\n",
    "# Define the predictor variable and target variable\n",
    "X = df_no_outliers[['ages']]\n",
    "y = df_no_outliers['rates']\n",
    "\n",
    "# Split the data into training set and test set\n",
    "X_train, X_test, y_train, y_test = train_test_split(X, y, test_size=0.2, random_state=42)\n",
    "\n",
    "# Create a linear regression model and fit it to the training data\n",
    "model = LinearRegression()\n",
    "model.fit(X_train, y_train)\n",
    "\n",
    "# Make predictions using the test set\n",
    "y_pred = model.predict(X_test)\n",
    "\n",
    "# The coefficients\n",
    "print('Coefficients: \\n', model.coef_)\n",
    "# The mean squared error\n",
    "print('Mean squared error: %.2f' % mean_squared_error(y_test, y_pred))\n",
    "# The coefficient of determination: 1 is perfect prediction\n",
    "print('Coefficient of determination: %.2f' % r2_score(y_test, y_pred))\n",
    "\n",
    "# Plot outputs\n",
    "plt.scatter(X_test, y_test,  color='black')\n",
    "plt.plot(X_test, y_pred, color='blue', linewidth=3)\n",
    "\n",
    "plt.show()"
   ]
  },
  {
   "cell_type": "code",
   "execution_count": null,
   "id": "684650b6-af75-4741-99c8-bd40e89876d1",
   "metadata": {
    "ExecuteTime": {
     "end_time": "2023-07-25T05:00:21.590411+00:00",
     "start_time": "2023-07-25T05:00:20.630263+00:00"
    },
    "noteable": {
     "cell_type": "code"
    }
   },
   "outputs": [],
   "source": [
    "# Calculate residuals\n",
    "residuals = y_test - y_pred\n",
    "\n",
    "# Scatter plot of predicted vs. residuals\n",
    "plt.figure(figsize=(10, 6))\n",
    "sns.scatterplot(x=y_pred, y=residuals)\n",
    "plt.xlabel('Predicted')\n",
    "plt.ylabel('Residuals')\n",
    "plt.title('Residuals vs Predicted Values')\n",
    "plt.show()\n",
    "\n",
    "# Histogram of residuals\n",
    "plt.figure(figsize=(10, 6))\n",
    "sns.histplot(residuals, kde=True)\n",
    "plt.title('Distribution of Residuals')\n",
    "plt.show()"
   ]
  },
  {
   "cell_type": "markdown",
   "id": "a9dd4569-b827-47fc-a068-6234b70766b2",
   "metadata": {
    "noteable": {
     "cell_type": "markdown"
    }
   },
   "source": [
    "## Model Evaluation\n",
    "\n",
    "The linear regression model was trained using 'ages' as the predictor variable and 'rates' as the target variable. The model's performance was evaluated using the Mean Squared Error (MSE) and the Coefficient of Determination (R^2 score).\n",
    "\n",
    "The MSE of the model is 8902.91. The MSE measures the average squared difference between the actual and predicted values, with lower values indicating better fit. However, the MSE is highly dependent on the scale of the target variable, and therefore it can be difficult to interpret in isolation.\n",
    "\n",
    "The R^2 score of the model is 0.06. The R^2 score represents the proportion of the variance for the target variable that's explained by the predictor variable(s) in the regression model. The R^2 score ranges from 0 to 1, with 1 indicating perfect prediction. In this case, the R^2 score is quite low, which suggests that the model's predictive power is not very strong. This could be due to a non-linear relationship between 'ages' and 'rates', or it could be that other variables not included in the model are influencing 'rates'.\n",
    "\n",
    "The residuals plot and the histogram of residuals were also examined to understand the performance of the model. The residuals plot did not show any clear patterns, which is a good sign as it suggests that the model's errors are random. However, the histogram of residuals showed that the residuals are not perfectly normally distributed, which is an assumption of linear regression.\n",
    "\n",
    "In conclusion, while the linear regression model provides some insight into the relationship between 'ages' and 'rates', its predictive power is limited. Further investigation and potentially more complex modeling techniques may be required to accurately predict 'rates' from 'ages'."
   ]
  },
  {
   "cell_type": "markdown",
   "id": "edeb1f34-48e5-4a86-aea4-5008a2fb2921",
   "metadata": {},
   "source": [
    "# start extract\n"
   ]
  },
  {
   "cell_type": "code",
   "execution_count": null,
   "id": "140c7da0-b96e-4fd4-8587-c0e71d78a77d",
   "metadata": {
    "ExecuteTime": {
     "end_time": "2023-07-25T05:08:57.304984+00:00",
     "start_time": "2023-07-25T05:08:55.330725+00:00"
    },
    "noteable": {
     "cell_type": "code"
    }
   },
   "outputs": [],
   "source": [
    "# Import necessary libraries for polynomial regression\n",
    "from sklearn.preprocessing import PolynomialFeatures\n",
    "\n",
    "# Define the degree of the polynomial features\n",
    "degree = 2\n",
    "\n",
    "# Create a PolynomialFeatures object\n",
    "poly_features = PolynomialFeatures(degree=degree)\n",
    "\n",
    "# Transform the predictor variable\n",
    "X_poly = poly_features.fit_transform(X)\n",
    "\n",
    "# Split the data into training set and test set\n",
    "X_train_poly, X_test_poly, y_train, y_test = train_test_split(X_poly, y, test_size=0.2, random_state=42)\n",
    "\n",
    "# Create a linear regression model and fit it to the polynomial features training data\n",
    "model_poly = LinearRegression()\n",
    "model_poly.fit(X_train_poly, y_train)\n",
    "\n",
    "# Make predictions using the test set\n",
    "y_pred_poly = model_poly.predict(X_test_poly)\n",
    "\n",
    "# The coefficients\n",
    "print('Coefficients: \\n', model_poly.coef_)\n",
    "# The mean squared error\n",
    "print('Mean squared error: %.2f' % mean_squared_error(y_test, y_pred_poly))\n",
    "# The coefficient of determination: 1 is perfect prediction\n",
    "print('Coefficient of determination: %.2f' % r2_score(y_test, y_pred_poly))\n",
    "\n",
    "# Plot outputs\n",
    "plt.scatter(X_test[:, 0], y_test,  color='black')\n",
    "plt.scatter(X_test[:, 0], y_pred_poly, color='blue')\n",
    "plt.title('Polynomial Regression')\n",
    "plt.xlabel('Ages')\n",
    "plt.ylabel('Rates')\n",
    "plt.show()"
   ]
  },
  {
   "cell_type": "code",
   "execution_count": null,
   "id": "bc84931f-3f11-44b7-9b5f-94c7f6d38970",
   "metadata": {
    "ExecuteTime": {
     "end_time": "2023-07-25T05:09:10.529863+00:00",
     "start_time": "2023-07-25T05:09:10.041904+00:00"
    },
    "noteable": {
     "cell_type": "code"
    }
   },
   "outputs": [],
   "source": [
    "# Plot outputs\n",
    "plt.scatter(X_test_poly[:, 1], y_test,  color='black')\n",
    "plt.scatter(X_test_poly[:, 1], y_pred_poly, color='blue')\n",
    "plt.title('Polynomial Regression')\n",
    "plt.xlabel('Ages')\n",
    "plt.ylabel('Rates')\n",
    "plt.show()"
   ]
  },
  {
   "cell_type": "code",
   "execution_count": null,
   "id": "17eb54b2-f232-48d2-a8d8-667c63e79d41",
   "metadata": {
    "ExecuteTime": {
     "end_time": "2023-07-25T05:14:19.434883+00:00",
     "start_time": "2023-07-25T05:14:19.230460+00:00"
    },
    "datalink": {
     "c3039d09-3360-48be-a89e-bb9f9b645729": {
      "applied_filters": [],
      "dataframe_info": {
       "default_index_used": true,
       "orig_num_cols": 2,
       "orig_num_rows": 5,
       "orig_size_bytes": 120,
       "truncated_num_cols": 2,
       "truncated_num_rows": 5,
       "truncated_size_bytes": 120,
       "truncated_string_columns": []
      },
      "display_id": "c3039d09-3360-48be-a89e-bb9f9b645729",
      "dx_settings": {
       "ALLOW_NOTEABLE_ATTRS": true,
       "COLUMN_SAMPLING_METHOD": "outer",
       "DB_LOCATION": ":memory:",
       "DEV_MODE": false,
       "DISPLAY_MAX_COLUMNS": 100,
       "DISPLAY_MAX_ROWS": 50000,
       "DISPLAY_MODE": "simple",
       "ENABLE_ASSIGNMENT": true,
       "ENABLE_DATALINK": true,
       "FLATTEN_COLUMN_VALUES": true,
       "FLATTEN_INDEX_VALUES": false,
       "GENERATE_DEX_METADATA": false,
       "HTML_TABLE_SCHEMA": false,
       "LOG_LEVEL": 30,
       "MAX_RENDER_SIZE_BYTES": 104857600,
       "MAX_STRING_LENGTH": 250,
       "NUM_PAST_SAMPLES_TRACKED": 3,
       "RANDOM_STATE": 12648430,
       "RESET_INDEX_VALUES": false,
       "ROW_SAMPLING_METHOD": "random",
       "SAMPLING_FACTOR": 0.1,
       "SAMPLING_METHOD": "random",
       "STRINGIFY_COLUMN_VALUES": true,
       "STRINGIFY_INDEX_VALUES": false
      },
      "sample_history": [],
      "sampling_time": "2023-07-25T05:14:19.278116",
      "user_variable_name": null,
      "variable_name": "unk_dataframe_7bca6e82403d47d28b0789e29753af11"
     }
    },
    "noteable": {
     "cell_type": "code"
    }
   },
   "outputs": [],
   "source": [
    "# Import necessary libraries\n",
    "import numpy as np\n",
    "import pandas as pd\n",
    "\n",
    "# Set a random seed for reproducibility\n",
    "np.random.seed(42)\n",
    "\n",
    "# Generate ages from 16 to 75\n",
    "ages = np.random.randint(16, 76, size=100)\n",
    "\n",
    "# Generate rates that linearly decrease with age with some random noise\n",
    "rates = 100 - ages + np.random.normal(0, 10, size=100)\n",
    "\n",
    "# Create a dataframe\n",
    "df_linear = pd.DataFrame({'ages': ages, 'rates': rates})\n",
    "\n",
    "# Write the dataframe to a csv file\n",
    "df_linear.to_csv('linear_data.csv', index=False)\n",
    "\n",
    "df_linear.head()"
   ]
  },
  {
   "cell_type": "code",
   "execution_count": null,
   "id": "7ee916fd-5ce9-4108-bf47-7eae0cf7f575",
   "metadata": {
    "ExecuteTime": {
     "end_time": "2023-07-25T05:16:09.188428+00:00",
     "start_time": "2023-07-25T05:16:08.983164+00:00"
    },
    "datalink": {
     "3d96e324-2e72-487c-94a7-90106d9b76ad": {
      "applied_filters": [],
      "dataframe_info": {
       "default_index_used": true,
       "orig_num_cols": 2,
       "orig_num_rows": 5,
       "orig_size_bytes": 120,
       "truncated_num_cols": 2,
       "truncated_num_rows": 5,
       "truncated_size_bytes": 120,
       "truncated_string_columns": []
      },
      "display_id": "3d96e324-2e72-487c-94a7-90106d9b76ad",
      "dx_settings": {
       "ALLOW_NOTEABLE_ATTRS": true,
       "COLUMN_SAMPLING_METHOD": "outer",
       "DB_LOCATION": ":memory:",
       "DEV_MODE": false,
       "DISPLAY_MAX_COLUMNS": 100,
       "DISPLAY_MAX_ROWS": 50000,
       "DISPLAY_MODE": "simple",
       "ENABLE_ASSIGNMENT": true,
       "ENABLE_DATALINK": true,
       "FLATTEN_COLUMN_VALUES": true,
       "FLATTEN_INDEX_VALUES": false,
       "GENERATE_DEX_METADATA": false,
       "HTML_TABLE_SCHEMA": false,
       "LOG_LEVEL": 30,
       "MAX_RENDER_SIZE_BYTES": 104857600,
       "MAX_STRING_LENGTH": 250,
       "NUM_PAST_SAMPLES_TRACKED": 3,
       "RANDOM_STATE": 12648430,
       "RESET_INDEX_VALUES": false,
       "ROW_SAMPLING_METHOD": "random",
       "SAMPLING_FACTOR": 0.1,
       "SAMPLING_METHOD": "random",
       "STRINGIFY_COLUMN_VALUES": true,
       "STRINGIFY_INDEX_VALUES": false
      },
      "sample_history": [],
      "sampling_time": "2023-07-25T05:16:09.031299",
      "user_variable_name": null,
      "variable_name": "unk_dataframe_425238a006224bf09cc3591767ff43ae"
     }
    },
    "noteable": {
     "cell_type": "code"
    }
   },
   "outputs": [],
   "source": [
    "# Load the new data\n",
    "df_linear = pd.read_csv('linear_data.csv')\n",
    "\n",
    "# Display the first few rows of the dataframe\n",
    "df_linear.head()"
   ]
  },
  {
   "cell_type": "code",
   "execution_count": null,
   "id": "fcb05542-e402-47b0-8816-89dae58d914e",
   "metadata": {
    "ExecuteTime": {
     "end_time": "2023-07-25T05:16:23.134114+00:00",
     "start_time": "2023-07-25T05:16:22.930703+00:00"
    },
    "datalink": {
     "c1817602-a363-4f1b-ba84-3f75435732c0": {
      "applied_filters": [],
      "dataframe_info": {
       "default_index_used": true,
       "orig_num_cols": 2,
       "orig_num_rows": 5,
       "orig_size_bytes": 120,
       "truncated_num_cols": 2,
       "truncated_num_rows": 5,
       "truncated_size_bytes": 120,
       "truncated_string_columns": []
      },
      "display_id": "c1817602-a363-4f1b-ba84-3f75435732c0",
      "dx_settings": {
       "ALLOW_NOTEABLE_ATTRS": true,
       "COLUMN_SAMPLING_METHOD": "outer",
       "DB_LOCATION": ":memory:",
       "DEV_MODE": false,
       "DISPLAY_MAX_COLUMNS": 100,
       "DISPLAY_MAX_ROWS": 50000,
       "DISPLAY_MODE": "simple",
       "ENABLE_ASSIGNMENT": true,
       "ENABLE_DATALINK": true,
       "FLATTEN_COLUMN_VALUES": true,
       "FLATTEN_INDEX_VALUES": false,
       "GENERATE_DEX_METADATA": false,
       "HTML_TABLE_SCHEMA": false,
       "LOG_LEVEL": 30,
       "MAX_RENDER_SIZE_BYTES": 104857600,
       "MAX_STRING_LENGTH": 250,
       "NUM_PAST_SAMPLES_TRACKED": 3,
       "RANDOM_STATE": 12648430,
       "RESET_INDEX_VALUES": false,
       "ROW_SAMPLING_METHOD": "random",
       "SAMPLING_FACTOR": 0.1,
       "SAMPLING_METHOD": "random",
       "STRINGIFY_COLUMN_VALUES": true,
       "STRINGIFY_INDEX_VALUES": false
      },
      "sample_history": [],
      "sampling_time": "2023-07-25T05:16:22.977897",
      "user_variable_name": null,
      "variable_name": "unk_dataframe_1333f82fec3b4c5fab8114da1f95395f"
     }
    },
    "noteable": {
     "cell_type": "code"
    }
   },
   "outputs": [],
   "source": [
    "# Drop negative values\n",
    "df_linear = df_linear[df_linear['rates'] >= 0]\n",
    "\n",
    "# Drop null values\n",
    "df_linear = df_linear.dropna()\n",
    "\n",
    "# Display the first few rows of the dataframe\n",
    "df_linear.head()"
   ]
  },
  {
   "cell_type": "code",
   "execution_count": null,
   "id": "11f5b09d-dfb0-4a23-b440-4a165db01222",
   "metadata": {
    "ExecuteTime": {
     "end_time": "2023-07-25T05:16:38.017718+00:00",
     "start_time": "2023-07-25T05:16:37.804477+00:00"
    },
    "datalink": {
     "0337c726-2943-4c14-b063-872186f718a5": {
      "applied_filters": [],
      "dataframe_info": {
       "default_index_used": true,
       "orig_num_cols": 2,
       "orig_num_rows": 5,
       "orig_size_bytes": 120,
       "truncated_num_cols": 2,
       "truncated_num_rows": 5,
       "truncated_size_bytes": 120,
       "truncated_string_columns": []
      },
      "display_id": "0337c726-2943-4c14-b063-872186f718a5",
      "dx_settings": {
       "ALLOW_NOTEABLE_ATTRS": true,
       "COLUMN_SAMPLING_METHOD": "outer",
       "DB_LOCATION": ":memory:",
       "DEV_MODE": false,
       "DISPLAY_MAX_COLUMNS": 100,
       "DISPLAY_MAX_ROWS": 50000,
       "DISPLAY_MODE": "simple",
       "ENABLE_ASSIGNMENT": true,
       "ENABLE_DATALINK": true,
       "FLATTEN_COLUMN_VALUES": true,
       "FLATTEN_INDEX_VALUES": false,
       "GENERATE_DEX_METADATA": false,
       "HTML_TABLE_SCHEMA": false,
       "LOG_LEVEL": 30,
       "MAX_RENDER_SIZE_BYTES": 104857600,
       "MAX_STRING_LENGTH": 250,
       "NUM_PAST_SAMPLES_TRACKED": 3,
       "RANDOM_STATE": 12648430,
       "RESET_INDEX_VALUES": false,
       "ROW_SAMPLING_METHOD": "random",
       "SAMPLING_FACTOR": 0.1,
       "SAMPLING_METHOD": "random",
       "STRINGIFY_COLUMN_VALUES": true,
       "STRINGIFY_INDEX_VALUES": false
      },
      "sample_history": [],
      "sampling_time": "2023-07-25T05:16:37.861519",
      "user_variable_name": null,
      "variable_name": "unk_dataframe_e50e3a9ac51a4a5ba7b9a1ba253d35d4"
     }
    },
    "noteable": {
     "cell_type": "code"
    }
   },
   "outputs": [],
   "source": [
    "# Identify outliers\n",
    "Q1 = df_linear.quantile(0.25)\n",
    "Q3 = df_linear.quantile(0.75)\n",
    "IQR = Q3 - Q1\n",
    "\n",
    "# Remove outliers\n",
    "df_linear_no_outliers = df_linear[~((df_linear < (Q1 - 1.5 * IQR)) | (df_linear > (Q3 + 1.5 * IQR))).any(axis=1)]\n",
    "\n",
    "# Display the first few rows of the dataframe without outliers\n",
    "df_linear_no_outliers.head()"
   ]
  },
  {
   "cell_type": "code",
   "execution_count": null,
   "id": "13455723-86b3-42ea-a741-75d5db5c56cc",
   "metadata": {
    "ExecuteTime": {
     "end_time": "2023-07-25T05:17:06.265698+00:00",
     "start_time": "2023-07-25T05:17:05.147813+00:00"
    },
    "noteable": {
     "cell_type": "code"
    }
   },
   "outputs": [],
   "source": [
    "# Plot ages versus rates for the original dataframe\n",
    "plt.figure(figsize=(10, 5))\n",
    "plt.subplot(1, 2, 1)\n",
    "plt.scatter(df_linear['ages'], df_linear['rates'])\n",
    "plt.title('Original Data')\n",
    "plt.xlabel('Ages')\n",
    "plt.ylabel('Rates')\n",
    "\n",
    "# Plot ages versus rates for the dataframe without outliers\n",
    "plt.subplot(1, 2, 2)\n",
    "plt.scatter(df_linear_no_outliers['ages'], df_linear_no_outliers['rates'])\n",
    "plt.title('Data Without Outliers')\n",
    "plt.xlabel('Ages')\n",
    "plt.ylabel('Rates')\n",
    "\n",
    "plt.tight_layout()\n",
    "plt.show()\n",
    "\n",
    "# Box and whisker plots\n",
    "plt.figure(figsize=(10, 5))\n",
    "plt.subplot(1, 2, 1)\n",
    "df_linear.boxplot(column=['rates'])\n",
    "plt.title('Original Data')\n",
    "\n",
    "plt.subplot(1, 2, 2)\n",
    "df_linear_no_outliers.boxplot(column=['rates'])\n",
    "plt.title('Data Without Outliers')\n",
    "\n",
    "plt.tight_layout()\n",
    "plt.show()"
   ]
  },
  {
   "cell_type": "code",
   "execution_count": null,
   "id": "e7beb7d9-3c43-4710-b7f6-7f2c7fe8fec7",
   "metadata": {
    "ExecuteTime": {
     "end_time": "2023-07-25T05:17:31.100080+00:00",
     "start_time": "2023-07-25T05:17:30.930644+00:00"
    },
    "noteable": {
     "cell_type": "code"
    }
   },
   "outputs": [],
   "source": [
    "# Import necessary libraries\n",
    "from sklearn.model_selection import train_test_split\n",
    "from sklearn.linear_model import LinearRegression\n",
    "from sklearn.metrics import mean_squared_error, r2_score\n",
    "\n",
    "# Define predictor and target variables\n",
    "X = df_linear_no_outliers[['ages']]\n",
    "y = df_linear_no_outliers['rates']\n",
    "\n",
    "# Split the data into training and test sets\n",
    "X_train, X_test, y_train, y_test = train_test_split(X, y, test_size=0.2, random_state=42)\n",
    "\n",
    "# Create a linear regression object\n",
    "regr = LinearRegression()\n",
    "\n",
    "# Train the model using the training sets\n",
    "regr.fit(X_train, y_train)\n",
    "\n",
    "# Make predictions using the testing set\n",
    "y_pred = regr.predict(X_test)\n",
    "\n",
    "# Print the coefficients\n",
    "print('Coefficients:', regr.coef_)\n",
    "\n",
    "# Print the mean squared error\n",
    "print('Mean squared error:', mean_squared_error(y_test, y_pred))\n",
    "\n",
    "# Print the coefficient of determination (R^2 score)\n",
    "print('Coefficient of determination (R^2 score):', r2_score(y_test, y_pred))"
   ]
  },
  {
   "cell_type": "code",
   "execution_count": null,
   "id": "4dd277d4-43c5-4d81-8465-4da28cb970d3",
   "metadata": {
    "ExecuteTime": {
     "end_time": "2023-07-25T05:17:51.987450+00:00",
     "start_time": "2023-07-25T05:17:51.260650+00:00"
    },
    "noteable": {
     "cell_type": "code"
    }
   },
   "outputs": [],
   "source": [
    "# Plot scatter plot of the test data and the predicted regression line\n",
    "plt.scatter(X_test, y_test, color='black')\n",
    "plt.plot(X_test, y_pred, color='blue', linewidth=3)\n",
    "plt.title('Linear Regression Model')\n",
    "plt.xlabel('Ages')\n",
    "plt.ylabel('Rates')\n",
    "plt.show()\n",
    "\n",
    "# Plot residuals\n",
    "plt.scatter(y_pred, y_test - y_pred, color='black')\n",
    "plt.hlines(y=0, xmin=y_test.min(), xmax=y_test.max(), color='blue')\n",
    "plt.title('Residuals')\n",
    "plt.xlabel('Predicted')\n",
    "plt.ylabel('Residuals')\n",
    "plt.show()"
   ]
  },
  {
   "cell_type": "markdown",
   "id": "a211008b-1c07-47de-a8cb-7dbfe0c4ecbf",
   "metadata": {
    "noteable": {
     "cell_type": "markdown"
    }
   },
   "source": [
    "## Model Evaluation\n",
    "\n",
    "The linear regression model has a coefficient of -0.9446, which indicates that as age increases, the rate decreases, which aligns with our expectations from the data.\n",
    "\n",
    "The mean squared error of the model is 75.25. This is a measure of the average squared difference between the actual and predicted values, with lower values indicating a better fit of the model to the data.\n",
    "\n",
    "The coefficient of determination (R^2 score) is 0.793. This score ranges from 0 to 1 and represents the proportion of the variance in the dependent variable that is predictable from the independent variable(s). A score of 0.793 indicates that approximately 79.3% of the variability in rates can be explained by age, which suggests a strong relationship.\n",
    "\n",
    "The scatter plot of the test data and the predicted regression line shows a clear negative linear relationship, which is what we would expect given the negative coefficient of the model.\n",
    "\n",
    "The residuals plot shows how the prediction errors (residuals) are distributed. Ideally, we would like to see a random distribution of residuals around the horizontal axis. In this case, the residuals appear to be randomly distributed around zero, suggesting that a linear model is appropriate for this data."
   ]
  },
  {
   "cell_type": "markdown",
   "id": "1cfcdfc1-43f4-45f4-a71e-7758b010cbb0",
   "metadata": {},
   "source": [
    "# end extract"
   ]
  },
  {
   "cell_type": "code",
   "execution_count": null,
   "id": "5a6b3862-f468-456a-b572-77593b16321f",
   "metadata": {
    "ExecuteTime": {
     "end_time": "2023-07-25T05:18:38.395600+00:00",
     "start_time": "2023-07-25T05:18:38.230437+00:00"
    },
    "noteable": {
     "cell_type": "code"
    }
   },
   "outputs": [],
   "source": [
    "# Import necessary libraries\n",
    "from sklearn.preprocessing import PolynomialFeatures\n",
    "\n",
    "# Create a PolynomialFeatures object\n",
    "poly = PolynomialFeatures(degree=2)\n",
    "\n",
    "# Transform the x data for polynomial regression\n",
    "X_poly = poly.fit_transform(X)\n",
    "\n",
    "# Fit the polynomial regression model\n",
    "poly_regr = LinearRegression()\n",
    "poly_regr.fit(X_poly, y)\n",
    "\n",
    "# Make predictions\n",
    "y_poly_pred = poly_regr.predict(X_poly)\n",
    "\n",
    "# Print the coefficients\n",
    "print('Coefficients:', poly_regr.coef_)\n",
    "\n",
    "# Print the mean squared error\n",
    "print('Mean squared error:', mean_squared_error(y, y_poly_pred))\n",
    "\n",
    "# Print the coefficient of determination (R^2 score)\n",
    "print('Coefficient of determination (R^2 score):', r2_score(y, y_poly_pred))"
   ]
  },
  {
   "cell_type": "code",
   "execution_count": null,
   "id": "c2774e1e-be70-411c-8f40-89fd92287168",
   "metadata": {
    "ExecuteTime": {
     "end_time": "2023-07-25T05:18:59.869041+00:00",
     "start_time": "2023-07-25T05:18:59.167386+00:00"
    },
    "noteable": {
     "cell_type": "code"
    }
   },
   "outputs": [],
   "source": [
    "# Plot scatter plot of the data and the predicted polynomial regression line\n",
    "plt.scatter(X, y, color='black')\n",
    "plt.plot(X, y_poly_pred, color='blue', linewidth=3)\n",
    "plt.title('Polynomial Regression Model')\n",
    "plt.xlabel('Ages')\n",
    "plt.ylabel('Rates')\n",
    "plt.show()\n",
    "\n",
    "# Plot residuals\n",
    "plt.scatter(y_poly_pred, y - y_poly_pred, color='black')\n",
    "plt.hlines(y=0, xmin=y.min(), xmax=y.max(), color='blue')\n",
    "plt.title('Residuals')\n",
    "plt.xlabel('Predicted')\n",
    "plt.ylabel('Residuals')\n",
    "plt.show()"
   ]
  },
  {
   "cell_type": "markdown",
   "id": "deffcbea-df10-4248-9b47-373de06edbf8",
   "metadata": {
    "noteable": {
     "cell_type": "markdown"
    }
   },
   "source": [
    "## Model Evaluation\n",
    "\n",
    "The polynomial regression model has coefficients of -0.9605 and 0.0000945 for the age and age-squared terms, respectively. This indicates that as age increases, the rate decreases, but at a decreasing rate, which aligns with our expectations from the data.\n",
    "\n",
    "The mean squared error of the model is 96.88. This is a measure of the average squared difference between the actual and predicted values, with lower values indicating a better fit of the model to the data. This is slightly higher than the mean squared error of the linear model, suggesting that the polynomial model may not fit the data quite as well.\n",
    "\n",
    "The coefficient of determination (R^2 score) is 0.751. This score ranges from 0 to 1 and represents the proportion of the variance in the dependent variable that is predictable from the independent variable(s). A score of 0.751 indicates that approximately 75.1% of the variability in rates can be explained by age, which suggests a strong relationship. However, this is slightly lower than the R^2 score of the linear model, again suggesting that the polynomial model may not fit the data quite as well.\n",
    "\n",
    "The scatter plot of the data and the predicted polynomial regression line shows a clear negative relationship, which is what we would expect given the negative coefficient of the model. However, the relationship appears to be more complex than a simple linear relationship, which is why we used a polynomial model.\n",
    "\n",
    "The residuals plot shows how the prediction errors (residuals) are distributed. Ideally, we would like to see a random distribution of residuals around the horizontal axis. In this case, the residuals appear to be randomly distributed around zero, suggesting that a polynomial model is appropriate for this data."
   ]
  },
  {
   "cell_type": "code",
   "execution_count": null,
   "id": "b9b94abe-5b63-4edd-9223-f9f10f5d5dd1",
   "metadata": {
    "ExecuteTime": {
     "end_time": "2023-07-25T05:20:41.684557+00:00",
     "start_time": "2023-07-25T05:20:41.471250+00:00"
    },
    "datalink": {
     "3678e66d-5842-431e-80f2-f70860efe892": {
      "applied_filters": [],
      "dataframe_info": {
       "default_index_used": true,
       "orig_num_cols": 2,
       "orig_num_rows": 5,
       "orig_size_bytes": 120,
       "truncated_num_cols": 2,
       "truncated_num_rows": 5,
       "truncated_size_bytes": 120,
       "truncated_string_columns": []
      },
      "display_id": "3678e66d-5842-431e-80f2-f70860efe892",
      "dx_settings": {
       "ALLOW_NOTEABLE_ATTRS": true,
       "COLUMN_SAMPLING_METHOD": "outer",
       "DB_LOCATION": ":memory:",
       "DEV_MODE": false,
       "DISPLAY_MAX_COLUMNS": 100,
       "DISPLAY_MAX_ROWS": 50000,
       "DISPLAY_MODE": "simple",
       "ENABLE_ASSIGNMENT": true,
       "ENABLE_DATALINK": true,
       "FLATTEN_COLUMN_VALUES": true,
       "FLATTEN_INDEX_VALUES": false,
       "GENERATE_DEX_METADATA": false,
       "HTML_TABLE_SCHEMA": false,
       "LOG_LEVEL": 30,
       "MAX_RENDER_SIZE_BYTES": 104857600,
       "MAX_STRING_LENGTH": 250,
       "NUM_PAST_SAMPLES_TRACKED": 3,
       "RANDOM_STATE": 12648430,
       "RESET_INDEX_VALUES": false,
       "ROW_SAMPLING_METHOD": "random",
       "SAMPLING_FACTOR": 0.1,
       "SAMPLING_METHOD": "random",
       "STRINGIFY_COLUMN_VALUES": true,
       "STRINGIFY_INDEX_VALUES": false
      },
      "sample_history": [],
      "sampling_time": "2023-07-25T05:20:41.528011",
      "user_variable_name": null,
      "variable_name": "unk_dataframe_5fb9366520de4e8dbf16f604cd92cf9c"
     }
    },
    "noteable": {
     "cell_type": "code"
    }
   },
   "outputs": [],
   "source": [
    "# Import necessary libraries\n",
    "import numpy as np\n",
    "\n",
    "# Set the seed for reproducibility\n",
    "np.random.seed(42)\n",
    "\n",
    "# Generate ages from 16 to 75\n",
    "ages = np.random.randint(16, 76, 1000)\n",
    "\n",
    "# Generate rates based on a quadratic polynomial\n",
    "rates = 0.01 * ages**2 - 2 * ages + 100 + np.random.normal(0, 10, 1000)\n",
    "\n",
    "# Create a dataframe\n",
    "df_quadratic = pd.DataFrame({'ages': ages, 'rates': rates})\n",
    "\n",
    "# Write the dataframe to a CSV file\n",
    "df_quadratic.to_csv('quadratic_data.csv', index=False)\n",
    "\n",
    "# Display the first few rows of the dataframe\n",
    "df_quadratic.head()"
   ]
  },
  {
   "cell_type": "code",
   "execution_count": null,
   "id": "1e04da5f-8966-4007-8407-8f29b97193ff",
   "metadata": {
    "ExecuteTime": {
     "end_time": "2023-07-25T05:20:55.057611+00:00",
     "start_time": "2023-07-25T05:20:54.849084+00:00"
    },
    "datalink": {
     "71f05269-ed3f-42f6-b5ef-7c110a512db5": {
      "applied_filters": [],
      "dataframe_info": {
       "default_index_used": true,
       "orig_num_cols": 2,
       "orig_num_rows": 5,
       "orig_size_bytes": 120,
       "truncated_num_cols": 2,
       "truncated_num_rows": 5,
       "truncated_size_bytes": 120,
       "truncated_string_columns": []
      },
      "display_id": "71f05269-ed3f-42f6-b5ef-7c110a512db5",
      "dx_settings": {
       "ALLOW_NOTEABLE_ATTRS": true,
       "COLUMN_SAMPLING_METHOD": "outer",
       "DB_LOCATION": ":memory:",
       "DEV_MODE": false,
       "DISPLAY_MAX_COLUMNS": 100,
       "DISPLAY_MAX_ROWS": 50000,
       "DISPLAY_MODE": "simple",
       "ENABLE_ASSIGNMENT": true,
       "ENABLE_DATALINK": true,
       "FLATTEN_COLUMN_VALUES": true,
       "FLATTEN_INDEX_VALUES": false,
       "GENERATE_DEX_METADATA": false,
       "HTML_TABLE_SCHEMA": false,
       "LOG_LEVEL": 30,
       "MAX_RENDER_SIZE_BYTES": 104857600,
       "MAX_STRING_LENGTH": 250,
       "NUM_PAST_SAMPLES_TRACKED": 3,
       "RANDOM_STATE": 12648430,
       "RESET_INDEX_VALUES": false,
       "ROW_SAMPLING_METHOD": "random",
       "SAMPLING_FACTOR": 0.1,
       "SAMPLING_METHOD": "random",
       "STRINGIFY_COLUMN_VALUES": true,
       "STRINGIFY_INDEX_VALUES": false
      },
      "sample_history": [],
      "sampling_time": "2023-07-25T05:20:54.901614",
      "user_variable_name": null,
      "variable_name": "unk_dataframe_7a704db87b4042a29520d13385adf3ca"
     }
    },
    "noteable": {
     "cell_type": "code"
    }
   },
   "outputs": [],
   "source": [
    "# Drop negative values\n",
    "df_quadratic = df_quadratic[df_quadratic['rates'] >= 0]\n",
    "\n",
    "# Drop null values\n",
    "df_quadratic = df_quadratic.dropna()\n",
    "\n",
    "# Display the first few rows of the dataframe\n",
    "df_quadratic.head()"
   ]
  },
  {
   "cell_type": "code",
   "execution_count": null,
   "id": "2513cb72-baf3-4d13-8d66-1a89f44a5a12",
   "metadata": {
    "ExecuteTime": {
     "end_time": "2023-07-25T05:21:12.024923+00:00",
     "start_time": "2023-07-25T05:21:11.792558+00:00"
    },
    "datalink": {
     "6161ffe2-6252-46f3-98fa-f89542e24c43": {
      "applied_filters": [],
      "dataframe_info": {
       "default_index_used": true,
       "orig_num_cols": 2,
       "orig_num_rows": 5,
       "orig_size_bytes": 120,
       "truncated_num_cols": 2,
       "truncated_num_rows": 5,
       "truncated_size_bytes": 120,
       "truncated_string_columns": []
      },
      "display_id": "6161ffe2-6252-46f3-98fa-f89542e24c43",
      "dx_settings": {
       "ALLOW_NOTEABLE_ATTRS": true,
       "COLUMN_SAMPLING_METHOD": "outer",
       "DB_LOCATION": ":memory:",
       "DEV_MODE": false,
       "DISPLAY_MAX_COLUMNS": 100,
       "DISPLAY_MAX_ROWS": 50000,
       "DISPLAY_MODE": "simple",
       "ENABLE_ASSIGNMENT": true,
       "ENABLE_DATALINK": true,
       "FLATTEN_COLUMN_VALUES": true,
       "FLATTEN_INDEX_VALUES": false,
       "GENERATE_DEX_METADATA": false,
       "HTML_TABLE_SCHEMA": false,
       "LOG_LEVEL": 30,
       "MAX_RENDER_SIZE_BYTES": 104857600,
       "MAX_STRING_LENGTH": 250,
       "NUM_PAST_SAMPLES_TRACKED": 3,
       "RANDOM_STATE": 12648430,
       "RESET_INDEX_VALUES": false,
       "ROW_SAMPLING_METHOD": "random",
       "SAMPLING_FACTOR": 0.1,
       "SAMPLING_METHOD": "random",
       "STRINGIFY_COLUMN_VALUES": true,
       "STRINGIFY_INDEX_VALUES": false
      },
      "sample_history": [],
      "sampling_time": "2023-07-25T05:21:11.868613",
      "user_variable_name": null,
      "variable_name": "unk_dataframe_961f195d0f664821933fd4078d3c378f"
     }
    },
    "noteable": {
     "cell_type": "code"
    }
   },
   "outputs": [],
   "source": [
    "# Import necessary libraries\n",
    "from scipy import stats\n",
    "\n",
    "# Calculate z-scores\n",
    "z_scores = stats.zscore(df_quadratic)\n",
    "\n",
    "# Get absolute z-scores\n",
    "abs_z_scores = np.abs(z_scores)\n",
    "\n",
    "# Create a boolean array indicating where the z-score is less than 3\n",
    "filtered_entries = (abs_z_scores < 3).all(axis=1)\n",
    "\n",
    "# Create a new dataframe with outliers removed\n",
    "df_quadratic_no_outliers = df_quadratic[filtered_entries]\n",
    "\n",
    "# Display the first few rows of the new dataframe\n",
    "df_quadratic_no_outliers.head()"
   ]
  },
  {
   "cell_type": "code",
   "execution_count": null,
   "id": "f735eed2-e6db-4fbf-8317-764cf217b1db",
   "metadata": {
    "ExecuteTime": {
     "end_time": "2023-07-25T05:21:29.681570+00:00",
     "start_time": "2023-07-25T05:21:27.155632+00:00"
    },
    "noteable": {
     "cell_type": "code"
    }
   },
   "outputs": [],
   "source": [
    "# Import necessary libraries\n",
    "import seaborn as sns\n",
    "\n",
    "# Plot ages versus rates for the original dataframe\n",
    "sns.boxplot(x='ages', y='rates', data=df_quadratic)\n",
    "plt.title('Boxplot of Rates by Age (Original Data)')\n",
    "plt.show()\n",
    "\n",
    "# Plot ages versus rates for the new dataframe\n",
    "sns.boxplot(x='ages', y='rates', data=df_quadratic_no_outliers)\n",
    "plt.title('Boxplot of Rates by Age (Outliers Removed)')\n",
    "plt.show()"
   ]
  },
  {
   "cell_type": "code",
   "execution_count": null,
   "id": "09cd18ad-b465-4204-b850-8e54b7f6de70",
   "metadata": {
    "ExecuteTime": {
     "end_time": "2023-07-25T05:21:56.302596+00:00",
     "start_time": "2023-07-25T05:21:56.131056+00:00"
    },
    "noteable": {
     "cell_type": "code"
    }
   },
   "outputs": [],
   "source": [
    "# Import necessary libraries\n",
    "from sklearn.model_selection import train_test_split\n",
    "from sklearn.linear_model import LinearRegression\n",
    "from sklearn.metrics import mean_squared_error, r2_score\n",
    "\n",
    "# Define the feature and target variables\n",
    "X = df_quadratic_no_outliers[['ages']]\n",
    "y = df_quadratic_no_outliers['rates']\n",
    "\n",
    "# Split the data into training and test sets\n",
    "X_train, X_test, y_train, y_test = train_test_split(X, y, test_size=0.2, random_state=42)\n",
    "\n",
    "# Create a linear regression object\n",
    "regr = LinearRegression()\n",
    "\n",
    "# Train the model using the training sets\n",
    "regr.fit(X_train, y_train)\n",
    "\n",
    "# Make predictions using the testing set\n",
    "y_pred = regr.predict(X_test)\n",
    "\n",
    "# Print the coefficients\n",
    "print('Coefficients:', regr.coef_)\n",
    "\n",
    "# Print the mean squared error\n",
    "print('Mean squared error:', mean_squared_error(y_test, y_pred))\n",
    "\n",
    "# Print the coefficient of determination (R^2 score)\n",
    "print('Coefficient of determination (R^2 score):', r2_score(y_test, y_pred))"
   ]
  },
  {
   "cell_type": "code",
   "execution_count": null,
   "id": "db418698-b53f-4551-aa6d-30e303443a34",
   "metadata": {
    "ExecuteTime": {
     "end_time": "2023-07-25T05:22:14.498166+00:00",
     "start_time": "2023-07-25T05:22:13.700968+00:00"
    },
    "noteable": {
     "cell_type": "code"
    }
   },
   "outputs": [],
   "source": [
    "# Plot scatter plot of the data and the regression line\n",
    "plt.scatter(X_test, y_test, color='black')\n",
    "plt.plot(X_test, y_pred, color='blue', linewidth=3)\n",
    "plt.title('Scatter Plot of Data and Regression Line')\n",
    "plt.xlabel('Ages')\n",
    "plt.ylabel('Rates')\n",
    "plt.show()\n",
    "\n",
    "# Plot residuals\n",
    "residuals = y_test - y_pred\n",
    "plt.scatter(X_test, residuals, color='black')\n",
    "plt.title('Residuals Plot')\n",
    "plt.xlabel('Ages')\n",
    "plt.ylabel('Residuals')\n",
    "plt.show()"
   ]
  },
  {
   "cell_type": "markdown",
   "id": "ad7a157d-1a20-45c4-b15a-9756127e2370",
   "metadata": {
    "noteable": {
     "cell_type": "markdown"
    }
   },
   "source": [
    "The linear regression model has a coefficient of determination (R^2 score) of approximately 0.73, which indicates that about 73% of the variability in the 'rates' can be explained by the 'ages'. This is a relatively high R^2 score, suggesting that the model fits the data quite well.\n",
    "\n",
    "However, it's important to note that the mean squared error (MSE) is approximately 104.54. The MSE is a measure of the quality of an estimator—it is always non-negative, and values closer to zero are better. The relatively high MSE suggests that the model could still be improved.\n",
    "\n",
    "Looking at the scatter plot of the data and the regression line, we can see that the model captures the general trend in the data, but there are still quite a few points that are far from the line. This is also reflected in the residuals plot, where we can see that the residuals are not randomly scattered around the horizontal axis, which would be the case if the model fit the data perfectly.\n",
    "\n",
    "Overall, the linear regression model provides a decent fit to the data, but there is still room for improvement. It's possible that a more complex model, such as a polynomial regression model, might provide a better fit to this data."
   ]
  },
  {
   "cell_type": "code",
   "execution_count": null,
   "id": "71987e02-02cd-4e00-a97a-d6a8b04410d8",
   "metadata": {
    "ExecuteTime": {
     "end_time": "2023-07-25T05:22:44.348935+00:00",
     "start_time": "2023-07-25T05:22:44.185296+00:00"
    },
    "noteable": {
     "cell_type": "code"
    }
   },
   "outputs": [],
   "source": [
    "# Import necessary libraries\n",
    "import numpy as np\n",
    "import pandas as pd\n",
    "\n",
    "# Set the seed for reproducibility\n",
    "np.random.seed(42)\n",
    "\n",
    "# Generate ages from 16 to 75\n",
    "ages = np.random.randint(16, 76, 1000)\n",
    "\n",
    "# Generate rates based on a quadratic function of ages\n",
    "rates = -0.01 * ages**2 + 1.5 * ages + np.random.normal(0, 10, 1000)\n",
    "\n",
    "# Create a dataframe\n",
    "df_quadratic = pd.DataFrame({'ages': ages, 'rates': rates})\n",
    "\n",
    "# Write the dataframe to a CSV file\n",
    "df_quadratic.to_csv('quadratic_data.csv', index=False)r"
   ]
  },
  {
   "cell_type": "code",
   "execution_count": null,
   "id": "f3e61f0b-c7af-43c9-96c7-5f8897d6c312",
   "metadata": {
    "ExecuteTime": {
     "end_time": "2023-07-25T05:22:57.215477+00:00",
     "start_time": "2023-07-25T05:22:56.999013+00:00"
    },
    "datalink": {
     "7724d8e3-4982-47f4-b163-6dea6edf7863": {
      "applied_filters": [],
      "dataframe_info": {
       "default_index_used": true,
       "orig_num_cols": 2,
       "orig_num_rows": 5,
       "orig_size_bytes": 120,
       "truncated_num_cols": 2,
       "truncated_num_rows": 5,
       "truncated_size_bytes": 120,
       "truncated_string_columns": []
      },
      "display_id": "7724d8e3-4982-47f4-b163-6dea6edf7863",
      "dx_settings": {
       "ALLOW_NOTEABLE_ATTRS": true,
       "COLUMN_SAMPLING_METHOD": "outer",
       "DB_LOCATION": ":memory:",
       "DEV_MODE": false,
       "DISPLAY_MAX_COLUMNS": 100,
       "DISPLAY_MAX_ROWS": 50000,
       "DISPLAY_MODE": "simple",
       "ENABLE_ASSIGNMENT": true,
       "ENABLE_DATALINK": true,
       "FLATTEN_COLUMN_VALUES": true,
       "FLATTEN_INDEX_VALUES": false,
       "GENERATE_DEX_METADATA": false,
       "HTML_TABLE_SCHEMA": false,
       "LOG_LEVEL": 30,
       "MAX_RENDER_SIZE_BYTES": 104857600,
       "MAX_STRING_LENGTH": 250,
       "NUM_PAST_SAMPLES_TRACKED": 3,
       "RANDOM_STATE": 12648430,
       "RESET_INDEX_VALUES": false,
       "ROW_SAMPLING_METHOD": "random",
       "SAMPLING_FACTOR": 0.1,
       "SAMPLING_METHOD": "random",
       "STRINGIFY_COLUMN_VALUES": true,
       "STRINGIFY_INDEX_VALUES": false
      },
      "sample_history": [],
      "sampling_time": "2023-07-25T05:22:57.058772",
      "user_variable_name": null,
      "variable_name": "unk_dataframe_105b37f9d5524194b1b2778e2e30c76d"
     }
    },
    "noteable": {
     "cell_type": "code"
    }
   },
   "outputs": [],
   "source": [
    "# Load the new data\n",
    "df_quadratic = pd.read_csv('quadratic_data.csv')\n",
    "\n",
    "# Display the first few rows of the dataframe\n",
    "df_quadratic.head()"
   ]
  },
  {
   "cell_type": "code",
   "execution_count": null,
   "id": "f70e4f41-b0cc-46c9-9cb7-142c98346d67",
   "metadata": {
    "ExecuteTime": {
     "end_time": "2023-07-25T05:23:09.922865+00:00",
     "start_time": "2023-07-25T05:23:09.755229+00:00"
    },
    "noteable": {
     "cell_type": "code"
    }
   },
   "outputs": [],
   "source": [
    "# Import necessary libraries\n",
    "from sklearn.preprocessing import PolynomialFeatures\n",
    "\n",
    "# Create a PolynomialFeatures object with degree 2\n",
    "poly = PolynomialFeatures(degree=2)\n",
    "\n",
    "# Transform the feature variable\n",
    "X_poly = poly.fit_transform(X)\n",
    "\n",
    "# Split the data into training and test sets\n",
    "X_train, X_test, y_train, y_test = train_test_split(X_poly, y, test_size=0.2, random_state=42)\n",
    "\n",
    "# Create a linear regression object\n",
    "regr = LinearRegression()\n",
    "\n",
    "# Train the model using the training sets\n",
    "regr.fit(X_train, y_train)\n",
    "\n",
    "# Make predictions using the testing set\n",
    "y_pred = regr.predict(X_test)\n",
    "\n",
    "# Print the coefficients\n",
    "print('Coefficients:', regr.coef_)\n",
    "\n",
    "# Print the mean squared error\n",
    "print('Mean squared error:', mean_squared_error(y_test, y_pred))\n",
    "\n",
    "# Print the coefficient of determination (R^2 score)\n",
    "print('Coefficient of determination (R^2 score):', r2_score(y_test, y_pred))"
   ]
  },
  {
   "cell_type": "code",
   "execution_count": null,
   "id": "eed38288-d5a7-406f-9d7d-72fb6666a4c2",
   "metadata": {
    "ExecuteTime": {
     "end_time": "2023-07-25T05:23:15.350857+00:00",
     "start_time": "2023-07-25T05:23:15.128174+00:00"
    },
    "datalink": {
     "85460c0e-178b-4eb9-8cb9-b8dc9a481c50": {
      "applied_filters": [],
      "dataframe_info": {
       "default_index_used": true,
       "orig_num_cols": 2,
       "orig_num_rows": 5,
       "orig_size_bytes": 120,
       "truncated_num_cols": 2,
       "truncated_num_rows": 5,
       "truncated_size_bytes": 120,
       "truncated_string_columns": []
      },
      "display_id": "85460c0e-178b-4eb9-8cb9-b8dc9a481c50",
      "dx_settings": {
       "ALLOW_NOTEABLE_ATTRS": true,
       "COLUMN_SAMPLING_METHOD": "outer",
       "DB_LOCATION": ":memory:",
       "DEV_MODE": false,
       "DISPLAY_MAX_COLUMNS": 100,
       "DISPLAY_MAX_ROWS": 50000,
       "DISPLAY_MODE": "simple",
       "ENABLE_ASSIGNMENT": true,
       "ENABLE_DATALINK": true,
       "FLATTEN_COLUMN_VALUES": true,
       "FLATTEN_INDEX_VALUES": false,
       "GENERATE_DEX_METADATA": false,
       "HTML_TABLE_SCHEMA": false,
       "LOG_LEVEL": 30,
       "MAX_RENDER_SIZE_BYTES": 104857600,
       "MAX_STRING_LENGTH": 250,
       "NUM_PAST_SAMPLES_TRACKED": 3,
       "RANDOM_STATE": 12648430,
       "RESET_INDEX_VALUES": false,
       "ROW_SAMPLING_METHOD": "random",
       "SAMPLING_FACTOR": 0.1,
       "SAMPLING_METHOD": "random",
       "STRINGIFY_COLUMN_VALUES": true,
       "STRINGIFY_INDEX_VALUES": false
      },
      "sample_history": [],
      "sampling_time": "2023-07-25T05:23:15.194793",
      "user_variable_name": null,
      "variable_name": "unk_dataframe_e904058adfea439a837b8bb9c2575ae4"
     }
    },
    "noteable": {
     "cell_type": "code"
    }
   },
   "outputs": [],
   "source": [
    "# Import necessary libraries\n",
    "from scipy import stats\n",
    "\n",
    "# Remove outliers\n",
    "df_quadratic_no_outliers = df_quadratic[(np.abs(stats.zscore(df_quadratic)) < 3).all(axis=1)]\n",
    "\n",
    "# Remove negative and null values\n",
    "df_quadratic_no_outliers = df_quadratic_no_outliers[df_quadratic_no_outliers['rates'] > 0]\n",
    "\n",
    "# Display the first few rows of the dataframe without outliers\n",
    "df_quadratic_no_outliers.head()"
   ]
  },
  {
   "cell_type": "code",
   "execution_count": null,
   "id": "59e9c27d-8f5f-48b5-b59d-6be01337e1ff",
   "metadata": {
    "ExecuteTime": {
     "end_time": "2023-07-25T05:23:30.189495+00:00",
     "start_time": "2023-07-25T05:23:29.430024+00:00"
    },
    "noteable": {
     "cell_type": "code"
    }
   },
   "outputs": [],
   "source": [
    "# Plot scatter plot of the data and the regression line\n",
    "plt.scatter(X_test[:, 1], y_test, color='black')\n",
    "plt.scatter(X_test[:, 1], y_pred, color='blue', linewidth=3)\n",
    "plt.title('Scatter Plot of Data and Regression Line')\n",
    "plt.xlabel('Ages')\n",
    "plt.ylabel('Rates')\n",
    "plt.show()\n",
    "\n",
    "# Plot residuals\n",
    "residuals = y_test - y_pred\n",
    "plt.scatter(X_test[:, 1], residuals, color='black')\n",
    "plt.title('Residuals Plot')\n",
    "plt.xlabel('Ages')\n",
    "plt.ylabel('Residuals')\n",
    "plt.show()"
   ]
  },
  {
   "cell_type": "markdown",
   "id": "8bd295aa-838c-4cfb-8d8e-fd63520f50d8",
   "metadata": {
    "noteable": {
     "cell_type": "markdown"
    }
   },
   "source": [
    "The polynomial regression model has a coefficient of determination (R^2 score) of approximately 0.75, which indicates that about 75% of the variability in the 'rates' can be explained by the 'ages'. This is a slight improvement over the linear regression model, which had an R^2 score of approximately 0.73.\n",
    "\n",
    "The mean squared error (MSE) of the polynomial regression model is approximately 95.74, which is lower than the MSE of the linear regression model (104.54). This suggests that the polynomial regression model provides a better fit to the data.\n",
    "\n",
    "Looking at the scatter plot of the data and the regression line, we can see that the polynomial regression model captures the quadratic trend in the data more accurately than the linear regression model. This is also reflected in the residuals plot, where the residuals are more randomly scattered around the horizontal axis, indicating a better fit to the data.\n",
    "\n",
    "Overall, the polynomial regression model provides a better fit to the data than the linear regression model, as expected given that the data was generated using a quadratic polynomial."
   ]
  },
  {
   "cell_type": "code",
   "execution_count": null,
   "id": "87e5a911-e533-4336-9bbc-a53ceed97522",
   "metadata": {
    "ExecuteTime": {
     "end_time": "2023-07-25T05:24:16.075870+00:00",
     "start_time": "2023-07-25T05:24:15.030213+00:00"
    },
    "noteable": {
     "cell_type": "code"
    }
   },
   "outputs": [],
   "source": [
    "# Import necessary libraries\n",
    "import matplotlib.pyplot as plt\n",
    "\n",
    "# Plot ages versus rates for the old dataframe showing outliers\n",
    "plt.figure(figsize=(12, 6))\n",
    "plt.subplot(1, 2, 1)\n",
    "plt.scatter(df_quadratic['ages'], df_quadratic['rates'], color='black')\n",
    "plt.title('Ages vs Rates (with outliers)')\n",
    "plt.xlabel('Ages')\n",
    "plt.ylabel('Rates')\n",
    "\n",
    "# Plot box and whisker plots for the old dataframe showing outliers\n",
    "plt.subplot(1, 2, 2)\n",
    "plt.boxplot([df_quadratic['ages'], df_quadratic['rates']])\n",
    "plt.title('Box and Whisker Plots (with outliers)')\n",
    "plt.xticks([1, 2], ['Ages', 'Rates'])\n",
    "plt.show()\n",
    "\n",
    "# Plot ages versus rates for the new dataframe without outliers\n",
    "plt.figure(figsize=(12, 6))\n",
    "plt.subplot(1, 2, 1)\n",
    "plt.scatter(df_quadratic_no_outliers['ages'], df_quadratic_no_outliers['rates'], color='black')\n",
    "plt.title('Ages vs Rates (without outliers)')\n",
    "plt.xlabel('Ages')\n",
    "plt.ylabel('Rates')\n",
    "\n",
    "# Plot box and whisker plots for the new dataframe without outliers\n",
    "plt.subplot(1, 2, 2)\n",
    "plt.boxplot([df_quadratic_no_outliers['ages'], df_quadratic_no_outliers['rates']])\n",
    "plt.title('Box and Whisker Plots (without outliers)')\n",
    "plt.xticks([1, 2], ['Ages', 'Rates'])\n",
    "plt.show()"
   ]
  },
  {
   "cell_type": "code",
   "execution_count": null,
   "id": "047aeaa2-cb91-4947-a76e-1bf2ee006676",
   "metadata": {
    "ExecuteTime": {
     "end_time": "2023-07-25T05:24:40.501616+00:00",
     "start_time": "2023-07-25T05:24:40.331255+00:00"
    },
    "noteable": {
     "cell_type": "code"
    }
   },
   "outputs": [],
   "source": [
    "# Import necessary libraries\n",
    "from sklearn.model_selection import train_test_split\n",
    "from sklearn.linear_model import LinearRegression\n",
    "from sklearn.metrics import mean_squared_error, r2_score\n",
    "\n",
    "# Split the data into training and testing sets\n",
    "X_train, X_test, y_train, y_test = train_test_split(df_quadratic_no_outliers[['ages']], df_quadratic_no_outliers['rates'], test_size=0.2, random_state=42)\n",
    "\n",
    "# Create a linear regression object\n",
    "regr = LinearRegression()\n",
    "\n",
    "# Train the model using the training sets\n",
    "regr.fit(X_train, y_train)\n",
    "\n",
    "# Make predictions using the testing set\n",
    "y_pred = regr.predict(X_test)\n",
    "\n",
    "# The coefficients\n",
    "print('Coefficients: \\n', regr.coef_)\n",
    "# The mean squared error\n",
    "print('Mean squared error: %.2f' % mean_squared_error(y_test, y_pred))\n",
    "# The coefficient of determination: 1 is perfect prediction\n",
    "print('Coefficient of determination: %.2f' % r2_score(y_test, y_pred))"
   ]
  },
  {
   "cell_type": "code",
   "execution_count": null,
   "id": "d533bb18-1c29-4c32-a707-2bab9fb0593e",
   "metadata": {
    "ExecuteTime": {
     "end_time": "2023-07-25T05:25:03.879420+00:00",
     "start_time": "2023-07-25T05:25:03.255212+00:00"
    },
    "noteable": {
     "cell_type": "code"
    }
   },
   "outputs": [],
   "source": [
    "# Plot scatter of test data and predictions\n",
    "plt.figure(figsize=(12, 6))\n",
    "plt.subplot(1, 2, 1)\n",
    "plt.scatter(X_test, y_test,  color='black')\n",
    "plt.plot(X_test, y_pred, color='blue', linewidth=3)\n",
    "plt.title('Scatter Plot of Test Data and Predictions')\n",
    "plt.xlabel('Ages')\n",
    "plt.ylabel('Rates')\n",
    "\n",
    "# Plot residuals\n",
    "plt.subplot(1, 2, 2)\n",
    "plt.scatter(y_pred, y_pred - y_test, color='black')\n",
    "plt.hlines(y=0, xmin=y_pred.min(), xmax=y_pred.max(), color='blue')\n",
    "plt.title('Residuals')\n",
    "plt.xlabel('Predicted')\n",
    "plt.ylabel('Residuals')\n",
    "plt.show()"
   ]
  },
  {
   "cell_type": "markdown",
   "id": "1a59eea7-99e7-46cc-9c66-b28ce3e849af",
   "metadata": {
    "noteable": {
     "cell_type": "markdown"
    }
   },
   "source": [
    "## Evaluation of the Linear Regression Model\n",
    "\n",
    "The coefficients of the linear regression model are approximately 0.57. This means that for each year increase in age, the rate increases by about 0.57.\n",
    "\n",
    "The mean squared error (MSE) of the model is approximately 119.34. The MSE is a measure of the quality of an estimator—it is always non-negative, and values closer to zero are better.\n",
    "\n",
    "The coefficient of determination, denoted R² or r² and pronounced \"R squared\", is approximately 0.53. This is a statistical measure that represents the proportion of the variance for a dependent variable that's explained by an independent variable or variables in a regression model. While it is often interpreted as the proportion of variance explained by the model, this is only correct for simple linear regression models and not generally true for multivariate linear regression models or non-linear regression models. An R² of 100 percent indicates that all changes in the dependent variable are completely explained by changes in the independent variable(s). In this case, 53% of the variability in rates is explained by age, which is not very high.\n",
    "\n",
    "From the scatter plot of the test data and predictions, we can see that the model does not fit the data perfectly. There is a clear pattern in the residuals plot, indicating that the model is not capturing some aspect of the data. This is expected as we know the data is generated from a quadratic function, and a linear model may not be the best fit for this data.\n",
    "\n",
    "In conclusion, the linear regression model is not a good fit for the data. A polynomial regression model may be a better choice for this data."
   ]
  },
  {
   "cell_type": "code",
   "execution_count": null,
   "id": "b62a4267-39ed-4827-8bbf-edca1f9bc7b7",
   "metadata": {
    "ExecuteTime": {
     "end_time": "2023-07-25T05:25:56.498091+00:00",
     "start_time": "2023-07-25T05:25:56.330631+00:00"
    },
    "noteable": {
     "cell_type": "code"
    }
   },
   "outputs": [],
   "source": [
    "# Import necessary libraries\n",
    "from sklearn.preprocessing import PolynomialFeatures\n",
    "\n",
    "# Create a PolynomialFeatures object with degree 2\n",
    "poly = PolynomialFeatures(degree=2)\n",
    "\n",
    "# Transform the x data for polynomial regression\n",
    "X_train_poly = poly.fit_transform(X_train)\n",
    "X_test_poly = poly.transform(X_test)\n",
    "\n",
    "# Create a linear regression object\n",
    "poly_regr = LinearRegression()\n",
    "\n",
    "# Train the model using the training sets\n",
    "poly_regr.fit(X_train_poly, y_train)\n",
    "\n",
    "# Make predictions using the testing set\n",
    "y_pred_poly = poly_regr.predict(X_test_poly)\n",
    "\n",
    "# The coefficients\n",
    "print('Coefficients: \\n', poly_regr.coef_)\n",
    "# The mean squared error\n",
    "print('Mean squared error: %.2f' % mean_squared_error(y_test, y_pred_poly))\n",
    "# The coefficient of determination: 1 is perfect prediction\n",
    "print('Coefficient of determination: %.2f' % r2_score(y_test, y_pred_poly))"
   ]
  },
  {
   "cell_type": "code",
   "execution_count": null,
   "id": "25473902-99f5-405b-b957-120dfe38a123",
   "metadata": {
    "ExecuteTime": {
     "end_time": "2023-07-25T05:26:20.396756+00:00",
     "start_time": "2023-07-25T05:26:19.732311+00:00"
    },
    "noteable": {
     "cell_type": "code"
    }
   },
   "outputs": [],
   "source": [
    "# Plot scatter of test data and predictions\n",
    "plt.figure(figsize=(12, 6))\n",
    "plt.subplot(1, 2, 1)\n",
    "plt.scatter(X_test, y_test,  color='black')\n",
    "plt.plot(X_test, y_pred_poly, color='blue', linewidth=3)\n",
    "plt.title('Scatter Plot of Test Data and Polynomial Predictions')\n",
    "plt.xlabel('Ages')\n",
    "plt.ylabel('Rates')\n",
    "\n",
    "# Plot residuals\n",
    "plt.subplot(1, 2, 2)\n",
    "plt.scatter(y_pred_poly, y_pred_poly - y_test, color='black')\n",
    "plt.hlines(y=0, xmin=y_pred_poly.min(), xmax=y_pred_poly.max(), color='blue')\n",
    "plt.title('Residuals of Polynomial Regression')\n",
    "plt.xlabel('Predicted')\n",
    "plt.ylabel('Residuals')\n",
    "plt.show()"
   ]
  },
  {
   "cell_type": "markdown",
   "id": "80a5a9af-60d4-4b2b-b479-cf97a77c5f5d",
   "metadata": {
    "noteable": {
     "cell_type": "markdown"
    }
   },
   "source": [
    "## Evaluation of the Polynomial Regression Model\n",
    "\n",
    "The coefficients of the polynomial regression model are approximately 1.78 for the linear term and -0.013 for the quadratic term. This means that the rate increases by about 1.78 for each year increase in age, but the rate of increase decreases by about 0.013 for each year increase in age squared. This is consistent with the quadratic function we used to generate the data.\n",
    "\n",
    "The mean squared error (MSE) of the model is approximately 113.48. The MSE is a measure of the quality of an estimator—it is always non-negative, and values closer to zero are better. The MSE of the polynomial regression model is slightly lower than that of the linear regression model, indicating that the polynomial regression model is a better fit for the data.\n",
    "\n",
    "The coefficient of determination, denoted R² or r² and pronounced \"R squared\", is approximately 0.55. This is a statistical measure that represents the proportion of the variance for a dependent variable that's explained by an independent variable or variables in a regression model. While it is often interpreted as the proportion of variance explained by the model, this is only correct for simple linear regression models and not generally true for multivariate linear regression models or non-linear regression models. An R² of 100 percent indicates that all changes in the dependent variable are completely explained by changes in the independent variable(s). In this case, 55% of the variability in rates is explained by age, which is slightly higher than the R² of the linear regression model.\n",
    "\n",
    "From the scatter plot of the test data and polynomial predictions, we can see that the model fits the data better than the linear regression model. The residuals plot also shows less pattern than the linear regression model, indicating that the polynomial regression model is capturing more of the data's structure.\n",
    "\n",
    "In conclusion, the polynomial regression model is a better fit for the data than the linear regression model."
   ]
  },
  {
   "cell_type": "markdown",
   "id": "cbc8cc1e-475d-4090-8eab-977af05c90ce",
   "metadata": {
    "noteable": {
     "cell_type": "markdown"
    }
   },
   "source": [
    "# Data Analysis Notebook\n",
    "\n",
    "This notebook contains a series of data analyses performed on different datasets. The datasets are generated to follow specific patterns (linear, quadratic) and the goal is to fit appropriate models to these data and evaluate their performance.\n",
    "\n",
    "## Table of Contents\n",
    "\n",
    "1. [Linear Data Analysis](#linear-data-analysis)\n",
    "2. [Quadratic Data Analysis](#quadratic-data-analysis)\n",
    "\n",
    "Each section includes data loading, data cleaning, exploratory data analysis, model fitting, model evaluation, and visualizations."
   ]
  },
  {
   "cell_type": "markdown",
   "id": "7d88b3c6-c6d0-424a-9f9d-f2d8d678460d",
   "metadata": {
    "noteable": {
     "cell_type": "markdown"
    }
   },
   "source": [
    "## Linear Data Analysis <a name=\"linear-data-analysis\"></a>\n",
    "\n",
    "In this section, we analyze a dataset that follows a linear pattern. The steps include:\n",
    "\n",
    "1. **Data Loading**: Load the data from a CSV file into a pandas DataFrame.\n",
    "2. **Data Cleaning**: Remove outliers and negative values from the data.\n",
    "3. **Exploratory Data Analysis**: Generate descriptive statistics and visualizations to understand the data.\n",
    "4. **Model Fitting**: Fit a linear regression model to the data.\n",
    "5. **Model Evaluation**: Evaluate the performance of the model using metrics such as mean squared error and R-squared.\n",
    "6. **Visualizations**: Generate plots of the data and the model predictions."
   ]
  },
  {
   "cell_type": "markdown",
   "id": "acbcf22d-0005-4f76-8289-9be7fe74e9e6",
   "metadata": {
    "noteable": {
     "cell_type": "markdown"
    }
   },
   "source": [
    "## Quadratic Data Analysis <a name=\"quadratic-data-analysis\"></a>\n",
    "\n",
    "In this section, we analyze a dataset that follows a quadratic pattern. The steps include:\n",
    "\n",
    "1. **Data Loading**: Load the data from a CSV file into a pandas DataFrame.\n",
    "2. **Data Cleaning**: Remove outliers and negative values from the data.\n",
    "3. **Exploratory Data Analysis**: Generate descriptive statistics and visualizations to understand the data.\n",
    "4. **Model Fitting**: Fit a polynomial regression model to the data.\n",
    "5. **Model Evaluation**: Evaluate the performance of the model using metrics such as mean squared error and R-squared.\n",
    "6. **Visualizations**: Generate plots of the data and the model predictions."
   ]
  }
 ],
 "metadata": {
  "kernel_info": {
   "name": "python3"
  },
  "kernelspec": {
   "display_name": "Python 3 (ipykernel)",
   "language": "python",
   "name": "python3"
  },
  "language_info": {
   "codemirror_mode": {
    "name": "ipython",
    "version": 3
   },
   "file_extension": ".py",
   "mimetype": "text/x-python",
   "name": "python",
   "nbconvert_exporter": "python",
   "pygments_lexer": "ipython3",
   "version": "3.11.4"
  },
  "noteable": {
   "last_delta_id": "48fbcbfe-857c-4b91-b4f5-c462d1b6fed5",
   "last_transaction_id": "4eeb48f8-9aee-4363-a7db-cbb492516b91"
  },
  "noteable-chatgpt": {
   "create_notebook": {
    "openai_conversation_id": "86134fe9-14fa-5aa4-b591-8113bb764cff",
    "openai_ephemeral_user_id": "14968ece-0355-58ee-a734-c0754c78ebd6",
    "openai_subdivision1_iso_code": "US-CA"
   }
  },
  "nteract": {
   "version": "noteable@2.9.0"
  },
  "selected_hardware_size": "small"
 },
 "nbformat": 4,
 "nbformat_minor": 5
}
